{
 "cells": [
  {
   "cell_type": "markdown",
   "metadata": {},
   "source": [
    "# Math Project 307\n",
    "contributors  \n",
    " \n"
   ]
  },
  {
   "cell_type": "markdown",
   "metadata": {},
   "source": [
    "# 1.9 Find QR Factorization of A^{k+1}\n",
    "\n",
    "$$(Q_0Q_1...Q_{k-1})A_k = A(Q_0Q_1...Q_{k-1})$$\n",
    "\n",
    "$Q_0 = Q$  and $R_0 = R$ theorfore A = QR = $Q_0R_0$\n",
    "by inuction hypo. k = 1 \n",
    "\n",
    "$$Q_0Q_1A_1 = AQ_oQ_1 \\hspace{5mm} (AB)^T=B^TA^T$$\n",
    "$$Q_0A_1 = Q_0Q_1(R_0Q_0)^T \\hspace{5mm} A(BC) =(AB)C$$\n",
    "\n",
    "\n",
    "\n"
   ]
  }
 ],
 "metadata": {
  "language_info": {
   "name": "python"
  }
 },
 "nbformat": 4,
 "nbformat_minor": 2
}
